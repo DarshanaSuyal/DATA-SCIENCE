{
 "cells": [
  {
   "cell_type": "code",
   "execution_count": 1,
   "id": "049ae590",
   "metadata": {},
   "outputs": [
    {
     "name": "stdout",
     "output_type": "stream",
     "text": [
      "Enter the number55\n",
      "55 X 1 = 55\n",
      "55 X 2 = 110\n",
      "55 X 3 = 165\n",
      "55 X 4 = 220\n",
      "55 X 5 = 275\n",
      "55 X 6 = 330\n",
      "55 X 7 = 385\n",
      "55 X 8 = 440\n",
      "55 X 9 = 495\n",
      "55 X 10 = 550\n",
      "55 X 11 = 605\n",
      "55 X 12 = 660\n",
      "55 X 13 = 715\n",
      "55 X 14 = 770\n",
      "55 X 15 = 825\n",
      "55 X 16 = 880\n",
      "55 X 17 = 935\n",
      "55 X 18 = 990\n",
      "55 X 19 = 1045\n"
     ]
    }
   ],
   "source": [
    "number= int(input(\"Enter the number\"))\n",
    "for i in range(1,20):\n",
    "    print(number,'X',i,'=',number*i)"
   ]
  },
  {
   "cell_type": "code",
   "execution_count": null,
   "id": "d77fde89",
   "metadata": {},
   "outputs": [],
   "source": []
  }
 ],
 "metadata": {
  "kernelspec": {
   "display_name": "Python 3 (ipykernel)",
   "language": "python",
   "name": "python3"
  },
  "language_info": {
   "codemirror_mode": {
    "name": "ipython",
    "version": 3
   },
   "file_extension": ".py",
   "mimetype": "text/x-python",
   "name": "python",
   "nbconvert_exporter": "python",
   "pygments_lexer": "ipython3",
   "version": "3.9.7"
  }
 },
 "nbformat": 4,
 "nbformat_minor": 5
}
