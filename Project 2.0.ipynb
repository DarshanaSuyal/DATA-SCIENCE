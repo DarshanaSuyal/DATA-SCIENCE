{
 "cells": [
  {
   "cell_type": "markdown",
   "id": "1168762b",
   "metadata": {},
   "source": [
    "# Rock, Paper and Scissor\n"
   ]
  },
  {
   "cell_type": "code",
   "execution_count": 1,
   "id": "e96249d4",
   "metadata": {},
   "outputs": [
    {
     "name": "stdout",
     "output_type": "stream",
     "text": [
      "Choose between (Rock,Paper and Scissor)\n",
      "Paper\n",
      "Choose between (Rock,Paper and Scissor)\n",
      "Scissor\n",
      "player1 choose Paper and player2 choose Scissor\n",
      "player2 won the game\n"
     ]
    }
   ],
   "source": [
    "player1 = str(input(\"Choose between (Rock,Paper and Scissor)\\n\"))\n",
    "player2 = str(input(\"Choose between (Rock,Paper and Scissor)\\n\"))\n",
    "if (player1=='Scissor') and (player2=='Scissor'):\n",
    "    print(\"player1 choose {option} and player2 choose {option2}\".format (option=player1,option2=player2))\n",
    "    print(\"That's a Tie\")\n",
    "elif (player1=='Paper') and (player2=='Paper'):\n",
    "    print(\"player1 choose {option} and player2 choose {option2}\".format (option=player1,option2=player2))\n",
    "    print(\"That's a Tie\")\n",
    "elif (player1=='Rock') and (player2=='Rock'):\n",
    "    print(\"player1 choose {option} and player2 choose {option2}\".format (option=player1,option2=player2))\n",
    "    print(\"That's a Tie\")\n",
    "elif (player1=='Rock') and (player2=='Paper'):\n",
    "    print(\"player1 choose {option} and player2 choose {option2}\".format (option=player1,option2=player2))\n",
    "    print(\"player2 won the game\")\n",
    "elif (player1=='Rock') and (player2=='Scissor'):\n",
    "    print(\"player1 choose {option} and player2 choose {option2}\".format (option=player1,option2=player2))\n",
    "    print(\"player1 won the game\") \n",
    "elif (player1=='Paper') and (player2=='Rock'):\n",
    "    print(\"player1 choose {option} and player2 choose {option2}\".format (option=player1,option2=player2))\n",
    "    print(\"player2 won the game\") \n",
    "elif (player1=='Paper') and (player2=='Scissor'):\n",
    "    print(\"player1 choose {option} and player2 choose {option2}\".format (option=player1,option2=player2))\n",
    "    print(\"player2 won the game\")\n",
    "elif (player1=='Scissor') and (player2=='Rock'):\n",
    "    print(\"player1 choose {option} and player2 choose {option2}\".format (option=player1,option2=player2))\n",
    "    print(\"player2 won the game\")      \n",
    "elif (player1=='Scissor') and (player2=='Paper'):\n",
    "    print(\"player1 choose {option} and player2 choose {option2}\".format (option=player1,option2=player2))\n",
    "    print(\"player1 won the game\")     \n",
    "\n",
    "\n",
    "\n"
   ]
  },
  {
   "cell_type": "code",
   "execution_count": null,
   "id": "0800ef74",
   "metadata": {},
   "outputs": [],
   "source": []
  }
 ],
 "metadata": {
  "kernelspec": {
   "display_name": "Python 3 (ipykernel)",
   "language": "python",
   "name": "python3"
  },
  "language_info": {
   "codemirror_mode": {
    "name": "ipython",
    "version": 3
   },
   "file_extension": ".py",
   "mimetype": "text/x-python",
   "name": "python",
   "nbconvert_exporter": "python",
   "pygments_lexer": "ipython3",
   "version": "3.9.7"
  }
 },
 "nbformat": 4,
 "nbformat_minor": 5
}
