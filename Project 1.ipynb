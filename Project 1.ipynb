{
 "cells": [
  {
   "cell_type": "markdown",
   "id": "a3adecf4",
   "metadata": {},
   "source": [
    "# Student Portfolio"
   ]
  },
  {
   "cell_type": "code",
   "execution_count": 1,
   "id": "1f86f781",
   "metadata": {
    "scrolled": true
   },
   "outputs": [
    {
     "name": "stdout",
     "output_type": "stream",
     "text": [
      "Enter your First name \n",
      "Darshana\n",
      "Enter your Last name\n",
      "Suyal\n",
      "Enter your program\n",
      "MBA\n",
      "Enter your Specialization\n",
      "BFSI\n",
      "Enter your Enrolmentnumber\n",
      "15\n",
      "Enter your Semester\n",
      "1\n",
      "Enter your batch\n",
      "2021\n",
      "Enter your Suject1\n",
      "Managerial Economics\n",
      "Enter your Subject2\n",
      "Marketing of BFSI Product\n",
      "Enter your Subject3\n",
      "Advance Management Practice\n",
      "Enter Percentage\n",
      "78\n"
     ]
    }
   ],
   "source": [
    "name1 = str (input(\"Enter your First name \\n\"))\n",
    "name2 = str (input(\"Enter your Last name\\n\"))\n",
    "program = str (input(\"Enter your program\\n\"))\n",
    "specialization = str (input(\"Enter your Specialization\\n\"))\n",
    "enrolmentnumber = int (input(\"Enter your Enrolmentnumber\\n\"))\n",
    "semester = int (input(\"Enter your Semester\\n\"))\n",
    "batch = int (input(\"Enter your batch\\n\"))\n",
    "sub1 = str (input(\"Enter your Suject1\\n\"))\n",
    "sub2 = str (input(\"Enter your Subject2\\n\"))\n",
    "sub3 = str (input(\"Enter your Subject3\\n\"))\n",
    "percent = float (input(\"Enter Percentage\\n\"))\n",
    "\n"
   ]
  },
  {
   "cell_type": "code",
   "execution_count": 2,
   "id": "9d7e5e1c",
   "metadata": {},
   "outputs": [
    {
     "name": "stdout",
     "output_type": "stream",
     "text": [
      "Student Details\n",
      "***************\n",
      "\n",
      "First Name: Darshana\n",
      "Last Name: Suyal\n",
      "Hello DARSHANA SUYAL\n",
      "\n",
      "**********\n",
      "\n",
      "Program: MBA\n",
      "Specialization: BFSI\n",
      "Enrolment Number: 15\n",
      "Semester: 1\n",
      "Batch: 2021\n",
      "Subject 1 : Managerial Economics\n",
      "Subject 2 : Marketing of BFSI Product\n",
      "Subject 3 : Advance Management Practice\n",
      "has scorded 78.0 in Semester 1st\n",
      "\n",
      "**********\n",
      "\n",
      "Congratulation\n"
     ]
    }
   ],
   "source": [
    "print(\"Student Details\")\n",
    "print(\"*\"*15+\"\\n\")\n",
    "print(\"First Name: \"+ name1)\n",
    "print(\"Last Name: \"+ name2)\n",
    "print(\"Hello \"+ name1.upper()+\" \"+name2.upper())\n",
    "print(\"\\n\"+\"*\"*10+\"\\n\")\n",
    "\n",
    "print (\"Program: \"+ str(program))\n",
    "print (\"Specialization: \"+ str(specialization))\n",
    "print (\"Enrolment Number: \"+str(enrolmentnumber))\n",
    "print (\"Semester: \"+str(semester))\n",
    "print (\"Batch: \"+str(batch))\n",
    "\n",
    "\n",
    "print(\"Subject 1 : \"+sub1)\n",
    "print(\"Subject 2 : \"+sub2)\n",
    "print(\"Subject 3 : \"+sub3)\n",
    "print(\"has scorded \"+str(percent)+\" in Semester 1st\")\n",
    "print(\"\\n\"+\"*\"*10+\"\\n\")\n",
    "\n",
    "print(\"Congratulation\")\n"
   ]
  },
  {
   "cell_type": "code",
   "execution_count": null,
   "id": "ffa787ba",
   "metadata": {},
   "outputs": [],
   "source": []
  },
  {
   "cell_type": "code",
   "execution_count": null,
   "id": "ced4efdf",
   "metadata": {},
   "outputs": [],
   "source": []
  }
 ],
 "metadata": {
  "kernelspec": {
   "display_name": "Python 3 (ipykernel)",
   "language": "python",
   "name": "python3"
  },
  "language_info": {
   "codemirror_mode": {
    "name": "ipython",
    "version": 3
   },
   "file_extension": ".py",
   "mimetype": "text/x-python",
   "name": "python",
   "nbconvert_exporter": "python",
   "pygments_lexer": "ipython3",
   "version": "3.9.7"
  }
 },
 "nbformat": 4,
 "nbformat_minor": 5
}
